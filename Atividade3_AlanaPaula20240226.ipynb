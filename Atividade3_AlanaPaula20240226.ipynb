{
  "nbformat": 4,
  "nbformat_minor": 0,
  "metadata": {
    "colab": {
      "provenance": []
    },
    "kernelspec": {
      "name": "python3",
      "display_name": "Python 3"
    },
    "language_info": {
      "name": "python"
    }
  },
  "cells": [
    {
      "cell_type": "markdown",
      "source": [
        "# **Atividade 3**"
      ],
      "metadata": {
        "id": "Lp0vZkrpV3f4"
      }
    },
    {
      "cell_type": "markdown",
      "source": [
        "### 1. Uma remessa de 800 estabilizadores de tensão é recebida pelo controle de qualidade de uma empresa. São inspecionados 20 aparelhos da remessa, que será aceita se ocorrer no máximo um defeituoso. Há 80 defeituosos no lote.Qual a probabilidade de o lote ser aceito?"
      ],
      "metadata": {
        "id": "9_lfxBdNV6Nu"
      }
    },
    {
      "cell_type": "code",
      "execution_count": 1,
      "metadata": {
        "colab": {
          "base_uri": "https://localhost:8080/"
        },
        "id": "Exf-QqzsVzge",
        "outputId": "db8f0fe2-595e-4e04-a627-2a868f602bb6"
      },
      "outputs": [
        {
          "output_type": "stream",
          "name": "stdout",
          "text": [
            "Probabilidade de aceitar a remessa: 0.3917469981251679\n"
          ]
        }
      ],
      "source": [
        "import math\n",
        "\n",
        "n = 20\n",
        "\n",
        "p_defeituoso = 80 / 800\n",
        "\n",
        "k_0_defeituosos = 0\n",
        "prob_0_defeituosos = (math.comb(n, k_0_defeituosos) * (p_defeituoso ** k_0_defeituosos) * ((1 - p_defeituoso) ** (n - k_0_defeituosos)))\n",
        "\n",
        "k_1_defeituoso = 1\n",
        "prob_1_defeituoso = (math.comb(n, k_1_defeituoso) * (p_defeituoso ** k_1_defeituoso) * ((1 - p_defeituoso) ** (n - k_1_defeituoso)))\n",
        "\n",
        "probabilidade_aceitar = prob_0_defeituosos + prob_1_defeituoso\n",
        "\n",
        "print(\"Probabilidade de aceitar a remessa:\", probabilidade_aceitar)\n"
      ]
    },
    {
      "cell_type": "markdown",
      "source": [
        "### 2. Acredita-se que 20% dos moradores das proximidades de uma grande indústria siderúrgica têm alergia aos poluentes lançados ao ar. Admitindo que este percentual de alérgicos é real (correto), calcule a probabilidade de que pelo menos 4 moradores tenham alergia entre 13 selecionados ao acaso."
      ],
      "metadata": {
        "id": "89vacByqWHlO"
      }
    },
    {
      "cell_type": "code",
      "source": [
        "import math\n",
        "\n",
        "n = 13\n",
        "\n",
        "p_alergia = 0.20\n",
        "\n",
        "probabilidade_total = 0\n",
        "\n",
        "for k in range(4, n+1):\n",
        "    probabilidade_k_alergicos = math.comb(n, k) * (p_alergia ** k) * ((1 - p_alergia) ** (n - k))\n",
        "    probabilidade_total += probabilidade_k_alergicos\n",
        "\n",
        "print(\"Probabilidade de pelo menos 4 moradores terem alergia:\", probabilidade_total)\n"
      ],
      "metadata": {
        "colab": {
          "base_uri": "https://localhost:8080/"
        },
        "id": "vH6ow2ruWNmG",
        "outputId": "971b3b05-cf7d-416b-bc6f-028a2a3f624a"
      },
      "execution_count": 2,
      "outputs": [
        {
          "output_type": "stream",
          "name": "stdout",
          "text": [
            "Probabilidade de pelo menos 4 moradores terem alergia: 0.252675690496\n"
          ]
        }
      ]
    },
    {
      "cell_type": "markdown",
      "source": [
        "###3. (Magalhães, 2004) O escore em um teste internacional de proficiência na língua inglesa varia de 0 a 700 pontos, com mais pontos indicando um melhor desempenho. Informações, coletadas durante vários anos, permitem\n",
        "###estabelecer o seguinte modelo para o desempenho no teste:"
      ],
      "metadata": {
        "id": "fAraENgZWPVl"
      }
    },
    {
      "cell_type": "code",
      "source": [
        "import math\n",
        "\n",
        "n = 20\n",
        "\n",
        "p_minimo = 0.28 + 0.10\n",
        "\n",
        "probabilidade_acumulada = 0\n",
        "\n",
        "for k in range(4):\n",
        "    probabilidade_k_sucessos = math.comb(n, k) * (p_minimo ** k) * ((1 - p_minimo) ** (n - k))\n",
        "    probabilidade_acumulada += probabilidade_k_sucessos\n",
        "\n",
        "print(\"Probabilidade de no máximo 3 estudantes atenderem ao requisito mínimo:\", probabilidade_acumulada)"
      ],
      "metadata": {
        "colab": {
          "base_uri": "https://localhost:8080/"
        },
        "id": "Yjf2xVwkWVCw",
        "outputId": "a43776a2-1a6e-45ec-cb5c-9a8f2559fb8b"
      },
      "execution_count": 3,
      "outputs": [
        {
          "output_type": "stream",
          "name": "stdout",
          "text": [
            "Probabilidade de no máximo 3 estudantes atenderem ao requisito mínimo: 0.02445069056010429\n"
          ]
        }
      ]
    },
    {
      "cell_type": "markdown",
      "source": [
        "###4. (Magalhães,2004) 25% dos universitários de São Paulo praticam esporte.Escolhendo-se ao acaso 15 desses estudantes, determine a probabilidade de:\n",
        "*   a) Pelo menos 2 deles serem esportistas\n",
        "*  b) No mínimo 12 deles não serem esportistas\n",
        "\n"
      ],
      "metadata": {
        "id": "VQ4sPyFIWXA-"
      }
    },
    {
      "cell_type": "code",
      "source": [
        "import math\n",
        "\n",
        "n = 15\n",
        "\n",
        "p_esportista = 0.25\n",
        "\n",
        "# a) Pelo menos 2 deles serem esportistas\n",
        "probabilidade_acumulada_a = 0\n",
        "for k in range(2, n + 1):\n",
        "    probabilidade_k_esportistas = math.comb(n, k) * (p_esportista ** k) * ((1 - p_esportista) ** (n - k))\n",
        "    probabilidade_acumulada_a += probabilidade_k_esportistas\n",
        "\n",
        "print(\"a) Probabilidade de pelo menos 2 serem esportistas:\", probabilidade_acumulada_a)\n",
        "\n",
        "# b) No mínimo 12 deles não serem esportistas\n",
        "probabilidade_acumulada_b = 0\n",
        "for k in range(12):\n",
        "    probabilidade_k_nao_esportistas = math.comb(n, k) * ((1 - p_esportista) ** k) * (p_esportista ** (n - k))\n",
        "    probabilidade_acumulada_b += probabilidade_k_nao_esportistas\n",
        "\n",
        "probabilidade_minimo_12_nao_esportistas = 1 - probabilidade_acumulada_b\n",
        "\n",
        "print(\"b) Probabilidade de no mínimo 12 não serem esportistas:\", probabilidade_minimo_12_nao_esportistas)"
      ],
      "metadata": {
        "colab": {
          "base_uri": "https://localhost:8080/"
        },
        "id": "oSQfU4_QWhi6",
        "outputId": "ed488730-f7da-4cc5-a1cd-52c98c0142d2"
      },
      "execution_count": 4,
      "outputs": [
        {
          "output_type": "stream",
          "name": "stdout",
          "text": [
            "a) Probabilidade de pelo menos 2 serem esportistas: 0.9198192339390516\n",
            "b) Probabilidade de no mínimo 12 não serem esportistas: 0.46128687635064125\n"
          ]
        }
      ]
    },
    {
      "cell_type": "markdown",
      "source": [
        "###5. A probabilidade de uma máquina produzir uma peça defeituosa é de 0,1.Qual a probabilidade de que em 20 peças produzidas pela máquina num dia,ocorram 3 defeituosas? Com base nesse resultado você continuaria produzindo peças com esta máquina levando em consideração uma grande produção de peças por dia?"
      ],
      "metadata": {
        "id": "aeu9fwpKWlpS"
      }
    },
    {
      "cell_type": "code",
      "source": [
        "import math\n",
        "\n",
        "n = 20\n",
        "\n",
        "p_defeituosa = 0.1\n",
        "\n",
        "k = 3\n",
        "\n",
        "probabilidade_3_defeituosas = math.comb(n, k) * (p_defeituosa ** k) * ((1 - p_defeituosa) ** (n - k))\n",
        "\n",
        "print(\"Probabilidade de ocorrerem 3 peças defeituosas:\", probabilidade_3_defeituosas)"
      ],
      "metadata": {
        "colab": {
          "base_uri": "https://localhost:8080/"
        },
        "id": "yQc0NIOxWro2",
        "outputId": "204f6367-5dd5-4c87-b94f-2b197ec0b1dd"
      },
      "execution_count": 9,
      "outputs": [
        {
          "output_type": "stream",
          "name": "stdout",
          "text": [
            "Probabilidade de ocorrerem 3 peças defeituosas: 0.19011987137619904\n"
          ]
        }
      ]
    },
    {
      "cell_type": "markdown",
      "source": [
        "\n",
        "\n",
        "---\n",
        "\n"
      ],
      "metadata": {
        "id": "N5mxtxpbXuzn"
      }
    },
    {
      "cell_type": "markdown",
      "source": [
        "#**DISTRIBUIÇÃO DE POISSON**\n",
        "\n",
        "\n"
      ],
      "metadata": {
        "id": "QGHHMydcWtz3"
      }
    },
    {
      "cell_type": "markdown",
      "source": [
        "###6. (Meyer,2000) Suponha que Xt, o nº de partículas emitidas em t horas por uma fonte radioativa, tenha uma distribuição de Poisson com parâmetro 20t. Qual será a probabilidade de que exatamente 5 partículas sejam emitidas durante um período de 15 min?"
      ],
      "metadata": {
        "id": "PrQ46emrWvcN"
      }
    },
    {
      "cell_type": "code",
      "source": [
        "import math\n",
        "\n",
        "lambd = 20 * (15/60)\n",
        "\n",
        "k = 5\n",
        "\n",
        "probabilidade_6 = (math.exp(-lambd) * (lambd ** k)) / math.factorial(k)\n",
        "\n",
        "print(\"Probabilidade de exatamente 5 partículas serem emitidas em 15 minutos:\", probabilidade_6)\n"
      ],
      "metadata": {
        "colab": {
          "base_uri": "https://localhost:8080/"
        },
        "id": "GdrGxeQ7W5Q9",
        "outputId": "b053226a-7c29-47d4-c38a-521974b6b989"
      },
      "execution_count": 6,
      "outputs": [
        {
          "output_type": "stream",
          "name": "stdout",
          "text": [
            "Probabilidade de exatamente 5 partículas serem emitidas em 15 minutos: 0.1754673697678507\n"
          ]
        }
      ]
    },
    {
      "cell_type": "markdown",
      "source": [
        "###7. (Magalhães, 2004) Uma indústria de tintas recebe pedidos de seus\n",
        "###vendedores através de fax, telefone e internet. A taxa média é de 5 pedidos por hora.\n",
        "\n",
        "*   a) Qual a probabilidade de a indústria receber mais de dois pedidos por hora? Digamos que, no horário do almoço, a indústria fica impossibilitada de atender a mais de dois pedidos por hora. Você acha que deveria aumentar o nº de atendentes nesse período?\n",
        "*  b) Em um dia de trabalho (8 horas) qual seria a probabilidade de haver 50\n",
        "pedidos? A indústria deveria aumentar o nº de atendentes para receber mais\n",
        "de 50 pedidos por dia?\n",
        "\n"
      ],
      "metadata": {
        "id": "t7bsP_2HW6x8"
      }
    },
    {
      "cell_type": "code",
      "source": [
        "lambd = 5\n",
        "\n",
        "k = 3\n",
        "\n",
        "probabilidade_7a = 1 - sum((math.exp(-lambd) * (lambd ** i)) / math.factorial(i) for i in range(k))\n",
        "\n",
        "print(\"a) Probabilidade de receber mais de dois pedidos por hora:\", probabilidade_7a)\n",
        "\n",
        "lambd = 5 * 8\n",
        "\n",
        "k = 50\n",
        "\n",
        "probabilidade_7b = (math.exp(-lambd) * (lambd ** k)) / math.factorial(k)\n",
        "\n",
        "print(\"b) Probabilidade de haver 50 pedidos em um dia de trabalho:\", probabilidade_7b)"
      ],
      "metadata": {
        "colab": {
          "base_uri": "https://localhost:8080/"
        },
        "id": "zLOVQA4HXVIP",
        "outputId": "fda532f3-5ecb-42a8-e6e4-4fc424df2678"
      },
      "execution_count": 7,
      "outputs": [
        {
          "output_type": "stream",
          "name": "stdout",
          "text": [
            "a) Probabilidade de receber mais de dois pedidos por hora: 0.8753479805169189\n",
            "b) Probabilidade de haver 50 pedidos em um dia de trabalho: 0.017707017552636248\n"
          ]
        }
      ]
    },
    {
      "cell_type": "markdown",
      "source": [
        "###8. A chegada de ônibus em um terminal acontece a razão de 3 por minuto.Supondo que tenha uma distribuição de Poisson, determine a probabilidade de:\n",
        "\n",
        "*   a) chegarem exatamente 8 ônibus em 2\n",
        "*  b) chegarem exatamente 4 ônibus em 5 minutos."
      ],
      "metadata": {
        "id": "VBzDqHCIXXH7"
      }
    },
    {
      "cell_type": "code",
      "source": [
        "lambd_2_min = 3 * 2\n",
        "\n",
        "lambd_5_min = 3 * 5\n",
        "\n",
        "k_a = 8\n",
        "\n",
        "k_b = 4\n",
        "\n",
        "probabilidade_8a = (math.exp(-lambd_2_min) * (lambd_2_min ** k_a)) / math.factorial(k_a)\n",
        "probabilidade_8b = (math.exp(-lambd_5_min) * (lambd_5_min ** k_b)) / math.factorial(k_b)\n",
        "\n",
        "print(\"a) Probabilidade de exatamente 8 ônibus chegarem em 2 minutos:\", probabilidade_8a)\n",
        "print(\"b) Probabilidade de exatamente 4 ônibus chegarem em 5 minutos:\", probabilidade_8b)\n"
      ],
      "metadata": {
        "colab": {
          "base_uri": "https://localhost:8080/"
        },
        "id": "_pLzpuqpXlUp",
        "outputId": "474c7db0-d9ad-4815-8b59-b802ddf8a6af"
      },
      "execution_count": 8,
      "outputs": [
        {
          "output_type": "stream",
          "name": "stdout",
          "text": [
            "a) Probabilidade de exatamente 8 ônibus chegarem em 2 minutos: 0.1032577335308443\n",
            "b) Probabilidade de exatamente 4 ônibus chegarem em 5 minutos: 0.0006452627073085387\n"
          ]
        }
      ]
    }
  ]
}