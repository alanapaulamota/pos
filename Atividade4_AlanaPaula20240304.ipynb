{
  "nbformat": 4,
  "nbformat_minor": 0,
  "metadata": {
    "colab": {
      "provenance": []
    },
    "kernelspec": {
      "name": "python3",
      "display_name": "Python 3"
    },
    "language_info": {
      "name": "python"
    }
  },
  "cells": [
    {
      "cell_type": "markdown",
      "source": [
        "# **Atividade 4**\n",
        "\n",
        "\n",
        "---\n",
        "\n"
      ],
      "metadata": {
        "id": "lEXEPb_MdrAP"
      }
    },
    {
      "cell_type": "markdown",
      "source": [
        "**Execício 1**"
      ],
      "metadata": {
        "id": "fNINEj-ndzYt"
      }
    },
    {
      "cell_type": "code",
      "source": [
        "#Imports\n",
        "import numpy as np\n",
        "from scipy.stats import poisson, t\n",
        "from sklearn.metrics import accuracy_score"
      ],
      "metadata": {
        "id": "rHEAMvo0XEoO"
      },
      "execution_count": 4,
      "outputs": []
    },
    {
      "cell_type": "markdown",
      "source": [
        "Um novo teste de gravidez promete ter índice de acerto de 99,9% ao dizer que\n",
        "uma mulher está grávida. Em contrapartida, o índice de falso positivo é de\n",
        "10%. Considerando que 10mil mulheres compraram o novo teste em 1 mês, e\n",
        "que 5mil delas estejam realmente grávidas, pergunta-se\n",
        "a) Qual é a porcentagem de mulheres grávidas que irão realizar\n",
        "\n",
        "*   a) Qual é a porcentagem de mulheres grávidas que irão realizar o teste?\n",
        "*   b) Qual é a probabilidade de o teste dar positivo?\n",
        "\n",
        "*   c) Qual é a significância a?\n",
        "*   d) Qual é a probabilidade de a mulher estar grávida se o teste der positivo?"
      ],
      "metadata": {
        "id": "GZVHFqAIWWna"
      }
    },
    {
      "cell_type": "code",
      "execution_count": 1,
      "metadata": {
        "colab": {
          "base_uri": "https://localhost:8080/"
        },
        "id": "YPWYs1rTWL2h",
        "outputId": "ff014674-b89d-474a-996a-f3012c6bca8c"
      },
      "outputs": [
        {
          "output_type": "stream",
          "name": "stdout",
          "text": [
            "Porcentagem de mulheres grávidas que realizaram o teste: 50.0\n",
            "Probabilidade de o teste dar positivo: 0.5495\n",
            "Significância alfa: 0.1\n",
            "Probabilidade de estar grávida dado que o teste deu positivo: 0.9090081892629663\n"
          ]
        }
      ],
      "source": [
        "total_mulheres = 10000\n",
        "mulheres_gravidas = 5000\n",
        "porcentagem_gravidas_teste = mulheres_gravidas / total_mulheres * 100\n",
        "print(\"Porcentagem de mulheres grávidas que realizaram o teste:\", porcentagem_gravidas_teste)\n",
        "\n",
        "probabilidade_positivo = 0.999 * 0.5 + 0.1 * 0.5\n",
        "print(\"Probabilidade de o teste dar positivo:\", probabilidade_positivo)\n",
        "\n",
        "significancia_alfa = 0.1\n",
        "print(\"Significância alfa:\", significancia_alfa)\n",
        "\n",
        "probabilidade_gravida_positivo = (0.999 * 0.5) / probabilidade_positivo\n",
        "print(\"Probabilidade de estar grávida dado que o teste deu positivo:\", probabilidade_gravida_positivo)\n"
      ]
    },
    {
      "cell_type": "markdown",
      "source": [
        "**Exercício 2**"
      ],
      "metadata": {
        "id": "Jb2CE9cSWfXU"
      }
    },
    {
      "cell_type": "markdown",
      "source": [
        "O número de vezes que um indivíduo tem gripe em determinado ano é uma\n",
        "variável aleatória de Poisson com l = 5. Suponha que um novo medicamento\n",
        "reduza o parâmetro l para 3 em 75% da população. Para os 25% restantes a\n",
        "droga não tem um efeito significativo.\n",
        "*   a) Se um indivíduo toma o medicamento durante um ano e tem duas gripes, qual a probabilidade de que o medicamento seja benéfico para ele (ela)?\n",
        "\n",
        "*   b) Com base nesse resultado, se o indivíduo soubesse essa probabilidade\n",
        "a priori, você acha que ele deveria continuar tomando o medicamento?\n",
        "\n",
        "*Dica: utilize a distribuição de Poisson junto com o teorema de Bayes*"
      ],
      "metadata": {
        "id": "D3e3Xf0LXPJ9"
      }
    },
    {
      "cell_type": "code",
      "source": [
        "lambda_beneficio = 3\n",
        "lambda_sem_beneficio = 5\n",
        "\n",
        "prob_medicamento_beneficio = 0.75\n",
        "\n",
        "prob_2_gripes_beneficio = poisson.pmf(2, lambda_beneficio)\n",
        "\n",
        "prob_2_gripes_sem_beneficio = poisson.pmf(2, lambda_sem_beneficio)\n",
        "\n",
        "prob_2_gripes = prob_2_gripes_beneficio * prob_medicamento_beneficio + prob_2_gripes_sem_beneficio * (1 - prob_medicamento_beneficio)\n",
        "\n",
        "prob_beneficio_dado_2_gripes = (prob_2_gripes_beneficio * prob_medicamento_beneficio) / prob_2_gripes\n",
        "\n",
        "print(\"Probabilidade de que o medicamento seja benéfico para o indivíduo:\", prob_beneficio_dado_2_gripes)\n",
        "\n",
        "if prob_beneficio_dado_2_gripes > 0.5:\n",
        "    print(f\"b) Provavelmente o indivíduo irá continuar com a medicação, pois a probabilidade é ≈ {prob_beneficio_dado_2_gripes:.4f} x 100 = {prob_beneficio_dado_2_gripes*100:.2f}%\")\n",
        "else:\n",
        "    print(f\"b) O indivíduo não irá continuar com a medicação, pois a probabilidade é ≈ {prob_beneficio_dado_2_gripes:.4f} x 100 = {prob_beneficio_dado_2_gripes*100:.2f}%\")"
      ],
      "metadata": {
        "colab": {
          "base_uri": "https://localhost:8080/"
        },
        "id": "wwZ7jST3XL4q",
        "outputId": "ff5c783c-d7c6-4f0a-fc0d-ae32c2728d2b"
      },
      "execution_count": 8,
      "outputs": [
        {
          "output_type": "stream",
          "name": "stdout",
          "text": [
            "Probabilidade de que o medicamento seja benéfico para o indivíduo: 0.8886436647538157\n",
            "b) Provavelmente o indivíduo irá continuar com a medicação, pois a probabilidade é ≈ 0.8886 x 100 = 88.86%\n"
          ]
        }
      ]
    },
    {
      "cell_type": "markdown",
      "source": [
        "**EXERCÍCIO 3**"
      ],
      "metadata": {
        "id": "KtX-phrxceM3"
      }
    },
    {
      "cell_type": "markdown",
      "source": [
        "Em um laboratório de geotecnia, existem duas máquinas que podem realizar a\n",
        "medição de uma mesma grandeza. Querendo saber se as duas máquinas\n",
        "estão dando resultados iguais, o técnico do laboratório fez medições utilizando\n",
        "pedaços retirados de uma mesma amostra de solo. As medidas são mostradas\n",
        "na tabela abaixo.\n",
        "\n",
        "| **MAQUINA1** | **MAQUINA2** |\n",
        "|:------------:|:------------:|\n",
        "|    61,880    |    61,527    |\n",
        "|    48,052    |    70,873    |\n",
        "|    39,428    |    60,183    |\n",
        "|    53,673    |    42,968    |"
      ],
      "metadata": {
        "id": "jGYMJOx9ZyJP"
      }
    },
    {
      "cell_type": "code",
      "source": [
        "medicoes_maquina1 = [61.880, 48.052, 39.428, 53.673]\n",
        "medicoes_maquina2 = [61.527, 70.873, 60.183, 42.968]\n",
        "\n",
        "media_maquina1 = np.mean(medicoes_maquina1)\n",
        "media_maquina2 = np.mean(medicoes_maquina2)\n",
        "\n",
        "print(\"a) Média da Máquina 1:\", media_maquina1)\n",
        "print(\"a) Média da Máquina 2:\", media_maquina2)"
      ],
      "metadata": {
        "colab": {
          "base_uri": "https://localhost:8080/"
        },
        "id": "WIgxIkBGa0cw",
        "outputId": "d77ef47f-c1fa-4f04-c54f-13545e282ba8"
      },
      "execution_count": 9,
      "outputs": [
        {
          "output_type": "stream",
          "name": "stdout",
          "text": [
            "a) Média da Máquina 1: 50.758250000000004\n",
            "   Média da Máquina 2: 58.88775\n"
          ]
        }
      ]
    },
    {
      "cell_type": "code",
      "source": [
        "desvio_padrao_maquina1 = np.std(medicoes_maquina1, ddof=1)\n",
        "desvio_padrao_maquina2 = np.std(medicoes_maquina2, ddof=1)\n",
        "\n",
        "n1 = len(medicoes_maquina1)\n",
        "n2 = len(medicoes_maquina2)\n",
        "\n",
        "erro_padrao_diferenca = np.sqrt((desvio_padrao_maquina1**2 / n1) + (desvio_padrao_maquina2**2 / n2))\n",
        "\n",
        "diferenca_medias = media_maquina1 - media_maquina2\n",
        "\n",
        "t_valor = diferenca_medias / erro_padrao_diferenca\n",
        "\n",
        "print(\"b) Valor de t:\", t_valor)"
      ],
      "metadata": {
        "colab": {
          "base_uri": "https://localhost:8080/"
        },
        "id": "jmyjbI33a5ay",
        "outputId": "5f053b05-db69-4008-8968-4f749d35c633"
      },
      "execution_count": 11,
      "outputs": [
        {
          "output_type": "stream",
          "name": "stdout",
          "text": [
            "b) Valor de t: -1.0850467482322708\n"
          ]
        }
      ]
    },
    {
      "cell_type": "code",
      "source": [
        "graus_liberdade = n1 + n2 - 2\n",
        "\n",
        "p_valor = 2 * (1 - t.cdf(abs(t_valor), graus_liberdade))\n",
        "\n",
        "print(\"c) Valor de P(t):\", p_valor)"
      ],
      "metadata": {
        "colab": {
          "base_uri": "https://localhost:8080/"
        },
        "id": "OQm03JXSbHVM",
        "outputId": "f9d1ff14-cdf2-45d8-a862-03c8c79c8279"
      },
      "execution_count": 12,
      "outputs": [
        {
          "output_type": "stream",
          "name": "stdout",
          "text": [
            "c) Valor de P(t): 0.3195618234212654\n"
          ]
        }
      ]
    },
    {
      "cell_type": "code",
      "source": [
        "valor = 0.05\n",
        "\n",
        "if p_valor < valor:\n",
        "    print(\"d) -> Com os valores obtidos, é possível dizer que as máquinas não estão dando o mesmo resultado.\")\n",
        "    print(\"   -> Com um valor de\", valor, \", rejeitamos a hipótese nula.\")\n",
        "    print(\"   -> Portanto, há evidências estatísticas de diferença entre as médias das máquinas.\")\n",
        "else:\n",
        "    print(\"d) -> Com os valores obtidos, não é possível dizer que as máquinas não estão dando o mesmo resultado.\")\n",
        "    print(\"   -> Com um valor de\", valor, \", não rejeitamos a hipótese nula.\")\n",
        "    print(\"   -> Portanto, não há evidências estatísticas para afirmar que as médias das máquinas são diferentes.\")\n"
      ],
      "metadata": {
        "colab": {
          "base_uri": "https://localhost:8080/"
        },
        "id": "bkh99hUHbNQV",
        "outputId": "050a0813-e719-4c6e-b3ba-50e98557f649"
      },
      "execution_count": 15,
      "outputs": [
        {
          "output_type": "stream",
          "name": "stdout",
          "text": [
            "d) -> Com os valores obtidos, não é possível dizer que as máquinas não estão dando o mesmo resultado.\n",
            "   -> Com um valor de 0.05 , não rejeitamos a hipótese nula.\n",
            "   -> Portanto, não há evidências estatísticas para afirmar que as médias das máquinas são diferentes.\n"
          ]
        }
      ]
    }
  ]
}